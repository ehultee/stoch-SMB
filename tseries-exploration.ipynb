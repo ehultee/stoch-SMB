{
 "cells": [
  {
   "cell_type": "markdown",
   "id": "75a7d560-24b6-409b-bf51-20201150981e",
   "metadata": {},
   "source": [
    "# Exploring surface mass balance time series "
   ]
  },
  {
   "cell_type": "markdown",
   "id": "f923a5ae-3af3-42e8-abfd-6e2e03f5b393",
   "metadata": {},
   "source": [
    "Welcome!  This notebook is intended to guide you through the preliminary data processing and visualization that helps us choose candidate models to fit to the Greenland surface mass balance time series.\n",
    "\n",
    "To begin with, we have aggregated gridded, Greenland-wide surface mass balance from GrSMBMIP participating models into catchment-integrated time series, based on the catchment boundaries defined by [Mouginot & Rignot](https://datadryad.org/stash/dataset/doi:10.7280/D1WT11).  The code for aggregation is in `multi-catchment-process.py` in this repository.\n",
    "\n",
    "With this data, we will plot catchment-aggregated time series and explore some relevant statistics."
   ]
  },
  {
   "cell_type": "markdown",
   "id": "6af69808-6ee6-441d-bf34-6987de007a0a",
   "metadata": {},
   "source": [
    "### Preliminaries - imports, names, paths"
   ]
  },
  {
   "cell_type": "code",
   "execution_count": null,
   "id": "d221ab9b-c2a5-4212-ab5e-6bde3c61fd58",
   "metadata": {},
   "outputs": [],
   "source": [
    "import numpy as np\n",
    "import pandas as pd\n",
    "import matplotlib.pyplot as plt\n",
    "import statsmodels.api as sm\n",
    "from statsmodels.tsa.ar_model import AutoReg, ar_select_order\n",
    "from matplotlib import cm\n",
    "import glob"
   ]
  },
  {
   "cell_type": "code",
   "execution_count": null,
   "id": "d103b357-9408-48f1-b81c-ffa9cbcc9d9b",
   "metadata": {},
   "outputs": [],
   "source": [
    "data_directory = '/Users/lizz/Documents/GitHub/stoch-SMB/SMBMIP-processed/'\n",
    "model_names = ['ANICE-ITM_Berends', 'CESM_kampenhout', 'dEBM_krebs','HIRHAM_mottram', \n",
    "                'NHM-SMAP_niwano', 'RACMO_noel', 'SNOWMODEL_liston']"
   ]
  },
  {
   "cell_type": "code",
   "execution_count": null,
   "id": "a4fcef31-0ad3-4410-88bf-b808c7c5623d",
   "metadata": {},
   "outputs": [],
   "source": [
    "example_basin = 101 # an ID number assigned by Mouginot & Rignot, between 1-200.\n",
    "## Some popular choices: 0 for Umiammakku Isbrae, 15 for Kangiata Nunaata Sermia, \n",
    "## 62 for Helheim Glacier, 101 for Kangerlussuaq Glacier \n",
    "\n",
    "ctmt_fpath = glob.glob(data_directory+'*-catchment_{}-tseries.csv'.format(example_basin))[0]"
   ]
  },
  {
   "cell_type": "markdown",
   "id": "d50c354e-16c5-498b-b932-59155f96038b",
   "metadata": {},
   "source": [
    "## Read in and plot monthly time series"
   ]
  },
  {
   "cell_type": "code",
   "execution_count": null,
   "id": "29dad048-72fa-426d-99ed-0bae44ffbea3",
   "metadata": {},
   "outputs": [],
   "source": [
    "def read_catchment_series(fpath, anomaly=False):\n",
    "    catchment_fpath = fpath\n",
    "    catchment_tseries = pd.read_csv(catchment_fpath, index_col=0, parse_dates=[0])\n",
    "    catchment_tseries.mask(catchment_tseries>1e30)\n",
    "    anomaly_series = catchment_tseries - catchment_tseries.mean()\n",
    "    if anomaly:\n",
    "        return anomaly_series\n",
    "    else:\n",
    "        return catchment_tseries"
   ]
  }
 ],
 "metadata": {
  "kernelspec": {
   "display_name": "Python 3",
   "language": "python",
   "name": "python3"
  },
  "language_info": {
   "codemirror_mode": {
    "name": "ipython",
    "version": 3
   },
   "file_extension": ".py",
   "mimetype": "text/x-python",
   "name": "python",
   "nbconvert_exporter": "python",
   "pygments_lexer": "ipython3",
   "version": "3.7.7"
  }
 },
 "nbformat": 4,
 "nbformat_minor": 5
}

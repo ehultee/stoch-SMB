{
 "cells": [
  {
   "cell_type": "markdown",
   "id": "f492706f-851e-4be8-88e4-c4e205ef10dc",
   "metadata": {},
   "source": [
    "## GrIS catchments map\n",
    "Updated map of catchments overlaid on a representative annual mass balance field, to support stochastic SMB model description manuscript.\n",
    "\n",
    "10 Mar 2023 | EHU"
   ]
  },
  {
   "cell_type": "code",
   "execution_count": null,
   "id": "e1b069e6-89c4-42e8-9098-85d4af342de0",
   "metadata": {},
   "outputs": [],
   "source": [
    "import shapefile\n",
    "from netCDF4 import Dataset\n",
    "import numpy as np\n",
    "import pyproj as pyproj\n",
    "from scipy import interpolate\n",
    "import cartopy.crs as ccrs\n",
    "from cartopy.io.img_tiles import Stamen\n",
    "import cartopy.feature as cfeature\n",
    "import matplotlib.pyplot as plt\n",
    "from matplotlib import cm, colors\n",
    "from datetime import date"
   ]
  },
  {
   "cell_type": "code",
   "execution_count": null,
   "id": "fc3472e3-e10f-4732-9cf8-9f89f493a49c",
   "metadata": {},
   "outputs": [],
   "source": [
    "## Read in BedMachine surface to evaluate\n",
    "gl_bed_path ='/Users/lizz/Documents/GitHub/Data_unsynced/BedMachine-Greenland/BedMachineGreenland-2017-09-20.nc'\n",
    "fh = Dataset(gl_bed_path, mode='r')\n",
    "xx = fh.variables['x'][:].copy() #x-coord (polar stereo (70, 45))\n",
    "yy = fh.variables['y'][:].copy() #y-coord\n",
    "s_raw = fh.variables['surface'][:].copy() #surface elevation\n",
    "thick_mask = fh.variables['mask'][:].copy()\n",
    "ss = np.ma.masked_where(thick_mask !=2, s_raw)#mask values: 0=ocean, 1=ice-free land, 2=grounded ice, 3=floating ice, 4=non-Greenland land\n",
    "fh.close()\n",
    "\n",
    "X = xx[::4]\n",
    "Y = yy[::4]\n",
    "S = ss[::4, ::4]"
   ]
  },
  {
   "cell_type": "code",
   "execution_count": null,
   "id": "82fbd4a4-4ad3-427a-b6c3-82ae1786ad59",
   "metadata": {},
   "outputs": [],
   "source": [
    "## Read in Mouginot catchments from shapefile\n",
    "print('Reading in Mouginot catchments')\n",
    "catchment_fn = '/Users/lizz/Documents/GitHub/Data_unsynced/Greenland-catchments-Mouginot/Greenland_Basins_PS_v1.4.2.'\n",
    "sf = shapefile.Reader(catchment_fn) "
   ]
  },
  {
   "cell_type": "code",
   "execution_count": null,
   "id": "27ae896c-6e6f-43b8-8efb-2fd3d72485ae",
   "metadata": {},
   "outputs": [],
   "source": [
    "highlight_catchment_name = 'KANGERLUSSUAQ'\n",
    "\n",
    "## plot all together, including disjoint multi-catchments\n",
    "fig, ax = plt.subplots(1)\n",
    "ax = plt.axes(projection=ccrs.NorthPolarStereo(central_longitude=-45.0))\n",
    "ax.set(xlim=(min(X)-100, max(X)+100), ylim=(min(Y)-100, max(Y)+100))\n",
    "# ax.stock_img()\n",
    "ax.add_feature(cfeature.OCEAN)\n",
    "ax.add_feature(cfeature.LAND, facecolor='antiquewhite')\n",
    "ax.add_feature(cfeature.COASTLINE,linewidth=0.3)\n",
    "for shape in sf.shapeRecords():\n",
    "    if len(shape.shape.parts)>1:\n",
    "        catchment_color='grey'\n",
    "    else:\n",
    "        catchment_color='k'\n",
    "    for i in range(len(shape.shape.parts)): ## plot disjointed parts separately\n",
    "        i_start = shape.shape.parts[i]\n",
    "        if i==len(shape.shape.parts)-1:\n",
    "            i_end = len(shape.shape.points)\n",
    "        else:\n",
    "            i_end = shape.shape.parts[i+1]\n",
    "        x = [i[0] for i in shape.shape.points[i_start:i_end]]\n",
    "        y = [i[1] for i in shape.shape.points[i_start:i_end]]\n",
    "        ax.plot(x,y, color=catchment_color)\n",
    "        ax.fill(x,y, color='white')\n",
    "    if highlight_catchment_name in shape.record['NAME']:\n",
    "        ax.fill(x,y, color='b')\n",
    "# ax.contour(X, Y, S)\n",
    "plt.show()"
   ]
  },
  {
   "cell_type": "markdown",
   "id": "1c1d1fd2-f800-40db-b8c5-2f7dab97438a",
   "metadata": {},
   "source": [
    "Okay, the basic map looks okay.  Now instead of white fill, we would like to plot more content: a representative ice-sheet-wide surface mass balance, to show the accumulation and ablation areas.  Let's load in an SMBMIP field for this purpose."
   ]
  },
  {
   "cell_type": "code",
   "execution_count": null,
   "id": "acdb42cd-0de4-4cd6-9c3b-30c491ddb998",
   "metadata": {},
   "outputs": [],
   "source": [
    "## Example SMB field read in for grid\n",
    "print('Reading in example SMB field')\n",
    "nhm_smb_path = '/Volumes/GoogleDrive/My Drive/Greenland-data/SMBMIP/dEBM_krebs-monthly-ERA-Interim-2010.nc'\n",
    "fh2 = Dataset(nhm_smb_path, mode='r')\n",
    "xlon_nhm = fh2.variables['LON'][:].copy() #x-coord (latlon)\n",
    "ylat_nhm = fh2.variables['LAT'][:].copy() #y-coord (latlon)\n",
    "smb_debm = fh2.variables['SMBcorr'][:].copy() ## SMB field\n",
    "fh2.close()"
   ]
  },
  {
   "cell_type": "code",
   "execution_count": null,
   "id": "5e854523-6b82-4be5-b0fb-31b2ea751718",
   "metadata": {},
   "outputs": [],
   "source": [
    "smb_annual = sum(smb_debm[m] for m in range(12))"
   ]
  },
  {
   "cell_type": "code",
   "execution_count": null,
   "id": "495ff0ff-3964-452b-855f-6b6d149fbebe",
   "metadata": {},
   "outputs": [],
   "source": [
    "###------------------------\n",
    "### SET UP SMB REPROJECTION\n",
    "###------------------------\n",
    "\n",
    "## Down-sample bed topo\n",
    "x_3km = xx[::20] # sample at ~3 km resolution\n",
    "y_3km = yy[::20]\n",
    "\n",
    "## Down-sample SMB\n",
    "x_lon_h = xlon_nhm[::2, ::2] \n",
    "y_lat_h = ylat_nhm[::2, ::2] # resolution about 2 km\n",
    "\n",
    "print('Creating reprojected meshgrid')\n",
    "wgs84 = pyproj.Proj(\"+init=EPSG:4326\") # LatLon with WGS84 datum used by SMB data\n",
    "psn_gl = pyproj.Proj(\"+init=epsg:3413\") # Polar Stereographic North used by BedMachine and Mankoff\n",
    "xs, ys = pyproj.transform(wgs84, psn_gl, x_lon_h, y_lat_h)\n",
    "Xmat, Ymat = np.meshgrid(x_3km, y_3km) # Downsampled BedMachine coords\n",
    "\n",
    "smb_ds = smb_annual[::2,::2] ## downsample\n",
    "regridded_smb = interpolate.griddata((xs.ravel(), ys.ravel()), smb_ds.ravel(), (Xmat, Ymat), method='nearest')"
   ]
  },
  {
   "cell_type": "code",
   "execution_count": null,
   "id": "8bfd8184-7c15-420e-85f5-029b8cf1cd5b",
   "metadata": {},
   "outputs": [],
   "source": [
    "fig, ax = plt.subplots()\n",
    "ax.imshow(regridded_smb)\n",
    "plt.show()"
   ]
  },
  {
   "cell_type": "code",
   "execution_count": null,
   "id": "9d6500bd-1352-4ec1-9243-f44f1dc63953",
   "metadata": {},
   "outputs": [],
   "source": [
    "highlight_catchment_name = 'KANGERLUSSUAQ'\n",
    "\n",
    "## plot all together, including disjoint multi-catchments\n",
    "fig, ax = plt.subplots(1)\n",
    "ax = plt.axes(projection=ccrs.NorthPolarStereo(central_longitude=-45.0))\n",
    "ax.set(xlim=(min(X)-100, max(X)+100), ylim=(min(Y)-100, max(Y)+100))\n",
    "# ax.stock_img()\n",
    "ax.add_feature(cfeature.OCEAN)\n",
    "# ax.add_feature(cfeature.LAND, facecolor='antiquewhite')\n",
    "# ax.add_feature(cfeature.COASTLINE,linewidth=0.3)\n",
    "ax.contourf(x_3km, y_3km, regridded_smb, levels=10)\n",
    "# ax.contour(X, Y[::-1], SMB_toshow(X, Y), levels=10)\n",
    "for shape in sf.shapeRecords():\n",
    "    if len(shape.shape.parts)>1:\n",
    "        catchment_color='grey'\n",
    "    else:\n",
    "        catchment_color='k'\n",
    "    for i in range(len(shape.shape.parts)): ## plot disjointed parts separately\n",
    "        i_start = shape.shape.parts[i]\n",
    "        if i==len(shape.shape.parts)-1:\n",
    "            i_end = len(shape.shape.points)\n",
    "        else:\n",
    "            i_end = shape.shape.parts[i+1]\n",
    "        x = [i[0] for i in shape.shape.points[i_start:i_end]]\n",
    "        y = [i[1] for i in shape.shape.points[i_start:i_end]]\n",
    "        ax.plot(x,y, color=catchment_color)\n",
    "#         ax.fill(x,y, color='white')\n",
    "    if highlight_catchment_name in shape.record['NAME']:\n",
    "        ax.fill(x,y, color='b')\n",
    "# ax.contour(X, Y, S)\n",
    "plt.show()"
   ]
  },
  {
   "cell_type": "code",
   "execution_count": null,
   "id": "992e1dfc-806b-4b51-93be-ef5eb04877d1",
   "metadata": {},
   "outputs": [],
   "source": [
    "np.shape(thick_mask[::20,::20])"
   ]
  },
  {
   "cell_type": "markdown",
   "id": "01de38f5-497f-4bd3-9ff1-11f4bc75d38b",
   "metadata": {},
   "source": [
    "We need to mask for only grounded ice in the contour plot above."
   ]
  },
  {
   "cell_type": "code",
   "execution_count": null,
   "id": "264ca8ae-f364-411a-bbdd-6dd9a200e3ef",
   "metadata": {},
   "outputs": [],
   "source": [
    "rg_smb = np.ma.masked_where(thick_mask[::20,::20] !=2, regridded_smb)"
   ]
  },
  {
   "cell_type": "code",
   "execution_count": null,
   "id": "90f52803-bc02-4ea4-901d-11bfb887bc7c",
   "metadata": {},
   "outputs": [],
   "source": [
    "rg_smb.max() ## figuring out how to modify the colorbar to show the data range best"
   ]
  },
  {
   "cell_type": "code",
   "execution_count": null,
   "id": "f6ff5da6-8220-4a00-985a-abe4fb5d465f",
   "metadata": {},
   "outputs": [],
   "source": [
    "highlight_catchment_name = 'KANGERLUSSUAQ'\n",
    "\n",
    "divnorm = colors.TwoSlopeNorm(vmin=-6000, vcenter=0, vmax=2000)\n",
    "# bounds = np.array([-3000, -1500, 0, 1500, 3000])\n",
    "# bnorm = colors.BoundaryNorm(boundaries=bounds, ncolors=256)\n",
    "\n",
    "\n",
    "## plot all together, including disjoint multi-catchments\n",
    "fig, ax = plt.subplots(1, figsize=(4,6))\n",
    "ax = plt.axes(projection=ccrs.NorthPolarStereo(central_longitude=-45.0))\n",
    "ax.set(xlim=(min(X)-100, max(X)+100), ylim=(min(Y)-100, max(Y)+100))\n",
    "# ax.stock_img()\n",
    "ax.add_feature(cfeature.OCEAN)\n",
    "# ax.add_feature(cfeature.LAND, facecolor='antiquewhite') ## these do not match the land mask of bedmachine and smbmip\n",
    "# ax.add_feature(cfeature.COASTLINE,linewidth=0.3)\n",
    "c = ax.contourf(x_3km, y_3km, rg_smb, cmap=cm.bwr_r, norm=divnorm, vmin=-6000, vmax=2000, levels=100, extend='both')\n",
    "for shape in sf.shapeRecords():\n",
    "    if len(shape.shape.parts)>1:\n",
    "        catchment_color='grey'\n",
    "    else:\n",
    "        catchment_color='k'\n",
    "    for i in range(len(shape.shape.parts)): ## plot disjointed parts separately\n",
    "        i_start = shape.shape.parts[i]\n",
    "        if i==len(shape.shape.parts)-1:\n",
    "            i_end = len(shape.shape.points)\n",
    "        else:\n",
    "            i_end = shape.shape.parts[i+1]\n",
    "        x = [i[0] for i in shape.shape.points[i_start:i_end]]\n",
    "        y = [i[1] for i in shape.shape.points[i_start:i_end]]\n",
    "        ax.plot(x,y, color=catchment_color)\n",
    "#     if highlight_catchment_name in shape.record['NAME']:\n",
    "# #         ax.fill(x,y, color='b', alpha=0.5)\n",
    "#         pass\n",
    "cbar = fig.colorbar(c, shrink=0.6, extend='both', orientation='horizontal', label='Annual SMB [mm w.e.]')\n",
    "cbar.ax.set(xticks=(-6000, -3000, 0, 2000))\n",
    "plt.show()"
   ]
  },
  {
   "cell_type": "markdown",
   "id": "d7ef4162-e6a1-4137-b671-4eea66ea7fe5",
   "metadata": {},
   "source": [
    "Okay, now two clean-up items.  \n",
    "- Plot the main part of disjoint catchments (generally ice-sheet-connected) in black rather than grey, and \n",
    "- Remove the bounding box that is showing around the plot."
   ]
  },
  {
   "cell_type": "code",
   "execution_count": null,
   "id": "e7350a25-0f9e-46ab-97c0-9b84325cf975",
   "metadata": {},
   "outputs": [],
   "source": [
    "highlight_catchment_name = 'KANGERLUSSUAQ'\n",
    "\n",
    "divnorm = colors.TwoSlopeNorm(vmin=-6000, vcenter=0, vmax=2000)\n",
    "\n",
    "## plot all together, including disjoint multi-catchments\n",
    "fig=plt.figure(figsize=(4,6)) ## was doubly defining 'ax' above; subplots command creates bounding box that figure does not\n",
    "\n",
    "ax = plt.axes(projection=ccrs.NorthPolarStereo(central_longitude=-45.0))\n",
    "ax.set(xlim=(min(X)-100, max(X)+100), ylim=(min(Y)-100, max(Y)+100))\n",
    "ax.add_feature(cfeature.OCEAN)\n",
    "ax.add_feature(cfeature.LAND, facecolor='antiquewhite') ## these do not match the land mask of bedmachine and smbmip\n",
    "ax.add_feature(cfeature.COASTLINE,linewidth=0.3)\n",
    "\n",
    "c = ax.contourf(x_3km, y_3km, rg_smb, cmap=cm.bwr_r, norm=divnorm, \n",
    "                vmin=-6000, vmax=2000, levels=100, extend='both',\n",
    "               transform=ccrs.epsg(3413))\n",
    "for shape in sf.shapeRecords():\n",
    "    for i in range(len(shape.shape.parts)): ## plot disjointed parts separately\n",
    "        i_start = shape.shape.parts[i]\n",
    "        if i==len(shape.shape.parts)-1:\n",
    "            i_end = len(shape.shape.points)\n",
    "        else:\n",
    "            i_end = shape.shape.parts[i+1]\n",
    "        if i>1:\n",
    "            catchment_color='grey'\n",
    "        else:\n",
    "            catchment_color='k'\n",
    "        x = [i[0] for i in shape.shape.points[i_start:i_end]]\n",
    "        y = [i[1] for i in shape.shape.points[i_start:i_end]]\n",
    "        ax.plot(x,y, color=catchment_color, transform=ccrs.epsg(3413)) ## add transform argument to make these match\n",
    "\n",
    "# ax_d = make_axes_locatable(ax)\n",
    "# cax = ax_d.append_axes('bottom', size='7%', pad='2%')\n",
    "cbar = fig.colorbar(c, extend='both', orientation='horizontal', label='Annual SMB [mm w.e.]', pad=0.02, shrink=0.7)\n",
    "cbar.ax.set(xticks=(-6000, -3000, 0, 2000))\n",
    "\n",
    "plt.savefig('/Users/lizz/Documents/Research/StISP/Figure-making/{}-Greenland_catchments_SMB_map-land_underlay'.format(date.today().strftime('%Y%m%d')), \n",
    "            dpi=300, format='png')"
   ]
  },
  {
   "cell_type": "code",
   "execution_count": null,
   "id": "d1284fe0-8802-4d63-8dc3-0fcff05ddd6d",
   "metadata": {},
   "outputs": [],
   "source": []
  }
 ],
 "metadata": {
  "kernelspec": {
   "display_name": "Python 3 (ipykernel)",
   "language": "python",
   "name": "python3"
  },
  "language_info": {
   "codemirror_mode": {
    "name": "ipython",
    "version": 3
   },
   "file_extension": ".py",
   "mimetype": "text/x-python",
   "name": "python",
   "nbconvert_exporter": "python",
   "pygments_lexer": "ipython3",
   "version": "3.10.9"
  }
 },
 "nbformat": 4,
 "nbformat_minor": 5
}
